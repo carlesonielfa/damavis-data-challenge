{
 "cells": [
  {
   "cell_type": "markdown",
   "id": "824e8898",
   "metadata": {},
   "source": [
    "# Damavis Data Engineer Challenge\n",
    "## Snake\n",
    "### Implementation Details\n",
    "As the goal is to find all paths, the only approach possible is brute-force.\n",
    "\n",
    "The algorithm can be made to be recursive, but I have decided against it to avoid recursion depth limits and posible memory overhead.\n",
    "\n",
    "In this implementation I have prefered to focus on optimizing memory so the snake's position isn't stored for each path, only the moves. The position is computed as needed (to verify that the path is valid) and not stored."
   ]
  },
  {
   "cell_type": "code",
   "execution_count": 1,
   "id": "fb4a087f",
   "metadata": {},
   "outputs": [],
   "source": [
    "def is_snake_valid(board: list[int], snake: list[list[int]]):\n",
    "    \"\"\"\n",
    "    Checks to see if the snake is in a valid configuration\n",
    "    Input:\n",
    "        - board: number of rows and columns of the board. len(board) = 2, 1 <= board[i] <= 10\n",
    "        - snake: configuration of the snake's body, the first position is the head, the last the tail\n",
    "    Output:\n",
    "        - bool: Wether the snake configuration is valid\n",
    "    \"\"\"\n",
    "    for i,pos in enumerate(snake):\n",
    "        # If snake array contains a duplicate, the snake is intersecting and therefore it is not valid\n",
    "        if pos in snake[i+1:]:\n",
    "            return False\n",
    "        # If the snake is off-board, it is not valid\n",
    "        if pos[0] < 0 or pos[0] >= board[0] or pos[1] < 0 or pos[1] >= board[1]:\n",
    "            return False\n",
    "    return True\n",
    "\n",
    "def _apply_path_to_snake(snake: list[list[int]], path: list[list[int]]):\n",
    "    \"\"\"\n",
    "    Moves the snake along the path provided\n",
    "    \"\"\"\n",
    "    snake = snake.copy()\n",
    "    for move in path:\n",
    "        snake.pop()\n",
    "        snake.insert(0, [snake[0][0]+move[0],snake[0][1]+move[1]])\n",
    "    return snake\n",
    "\n",
    "def path_to_text(path: list[list[int]]):\n",
    "    \"\"\"\n",
    "    Given a path, show the movements in the same format as the instructions.\n",
    "    Input:\n",
    "        path: list tuples denoting movements, can be (1,0),(-1,0),(0,1),(0,-1)\n",
    "    Output:\n",
    "        str: string denoting a path, each movement represented with letters R-right, D-down, L-left, U-up\n",
    "    \"\"\"\n",
    "    d = {(1,0):\"R\",(0,1):\"D\",(-1,0):\"L\",(0,-1):\"U\"}\n",
    "    path_str = \"\"\n",
    "    for move in path:\n",
    "        path_str += d[move]\n",
    "    return path_str\n",
    "\n",
    "def solve_snake(board: list[int], snake: list[list[int]], depth: int, show_paths = False):\n",
    "    \"\"\"\n",
    "    As per the instructions, finds all paths with a determined number of moves for a snake in a board\n",
    "    Input:\n",
    "        - board: number of rows and columns of the board. len(board) = 2, 1 <= board[i] <= 10\n",
    "        - snake: configuration of the snake's body, the first position is the head, the last the tail\n",
    "        - depth: depth of the paths to search for\n",
    "    Output\n",
    "        - int: number of distinct valid paths of length depth that the snake can make\n",
    "    \"\"\"\n",
    "    # Directions in which the snake can move\n",
    "    possible_moves = [(1,0),(-1,0),(0,1),(0,-1)]\n",
    "    # Store paths explored\n",
    "    paths = []\n",
    "    # Valid paths found\n",
    "    valid_paths = []\n",
    "    # Add initial paths\n",
    "    for move in possible_moves:\n",
    "        paths.append([move])\n",
    "        \n",
    "    # Explore paths while we still have paths to explore\n",
    "    while paths:\n",
    "        path = paths.pop()\n",
    "        # Check if this path is valid\n",
    "        if is_snake_valid(board, _apply_path_to_snake(snake,path)):\n",
    "            # If the path is of maximum depth stop explorating and record path\n",
    "            if len(path) == depth:\n",
    "                valid_paths.append(path)\n",
    "            # If we haven't reached maximum depth, keep exploring\n",
    "            else:\n",
    "                for move in possible_moves:\n",
    "                    paths.append(path+[move])\n",
    "        \n",
    "    # Print valid paths like the example in the instructions    \n",
    "    if show_paths:\n",
    "        for path in valid_paths:\n",
    "            print(path_to_text(path))\n",
    "            \n",
    "    return len(valid_paths)"
   ]
  },
  {
   "cell_type": "markdown",
   "id": "e4b34aca",
   "metadata": {},
   "source": [
    "## Acceptance Tests"
   ]
  },
  {
   "cell_type": "code",
   "execution_count": 2,
   "id": "f19f5b31",
   "metadata": {},
   "outputs": [
    {
     "name": "stdout",
     "output_type": "stream",
     "text": [
      "All tests passed!\n"
     ]
    }
   ],
   "source": [
    "assert solve_snake([4,3],[[2,2],[3,2],[3,1],[3,0],[2,0],[1,0],[0,0]], 3) == 7\n",
    "assert solve_snake([2,3],[[0,2],[0,1],[0,0],[1,0],[1,1],[1,2]], 10) == 1\n",
    "assert solve_snake([10,10],[[5,5],[5,4],[4,4],[4,5]], 4) == 81\n",
    "print(\"All tests passed!\")"
   ]
  }
 ],
 "metadata": {
  "kernelspec": {
   "display_name": "Python 3 (ipykernel)",
   "language": "python",
   "name": "python3"
  },
  "language_info": {
   "codemirror_mode": {
    "name": "ipython",
    "version": 3
   },
   "file_extension": ".py",
   "mimetype": "text/x-python",
   "name": "python",
   "nbconvert_exporter": "python",
   "pygments_lexer": "ipython3",
   "version": "3.9.10"
  }
 },
 "nbformat": 4,
 "nbformat_minor": 5
}
